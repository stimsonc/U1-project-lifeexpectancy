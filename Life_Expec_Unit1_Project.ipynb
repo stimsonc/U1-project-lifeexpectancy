{
  "nbformat": 4,
  "nbformat_minor": 0,
  "metadata": {
    "colab": {
      "name": "Life_Expec_Unit1_Project.ipynb",
      "provenance": [],
      "collapsed_sections": []
    },
    "kernelspec": {
      "name": "python3",
      "display_name": "Python 3"
    }
  },
  "cells": [
    {
      "cell_type": "code",
      "metadata": {
        "id": "0K_EH-6b6xl6",
        "colab": {
          "resources": {
            "http://localhost:8080/nbextensions/google.colab/files.js": {
              "data": "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",
              "ok": true,
              "headers": [
                [
                  "content-type",
                  "application/javascript"
                ]
              ],
              "status": 200,
              "status_text": ""
            }
          },
          "base_uri": "https://localhost:8080/",
          "height": 72
        },
        "outputId": "32becb87-5d47-49ce-bd0b-da4073f9aa13"
      },
      "source": [
        "# Data: Life Expectancey dataset on Kaggle\n",
        "# https://www.kaggle.com/kumarajarshi/life-expectancy-who\n",
        "\n",
        "import pandas as pd\n",
        "from google.colab import files\n",
        "import numpy as np\n",
        "\n",
        "uploaded = files.upload()"
      ],
      "execution_count": 1,
      "outputs": [
        {
          "output_type": "display_data",
          "data": {
            "text/html": [
              "\n",
              "     <input type=\"file\" id=\"files-919daa7a-bee7-48c9-b508-2f40b4e8a84c\" name=\"files[]\" multiple disabled\n",
              "        style=\"border:none\" />\n",
              "     <output id=\"result-919daa7a-bee7-48c9-b508-2f40b4e8a84c\">\n",
              "      Upload widget is only available when the cell has been executed in the\n",
              "      current browser session. Please rerun this cell to enable.\n",
              "      </output>\n",
              "      <script src=\"/nbextensions/google.colab/files.js\"></script> "
            ],
            "text/plain": [
              "<IPython.core.display.HTML object>"
            ]
          },
          "metadata": {
            "tags": []
          }
        },
        {
          "output_type": "stream",
          "text": [
            "Saving Life Expectancy Data.csv to Life Expectancy Data.csv\n"
          ],
          "name": "stdout"
        }
      ]
    },
    {
      "cell_type": "code",
      "metadata": {
        "id": "qUnp7f1W0GeO"
      },
      "source": [
        "import io\n",
        "df = pd.read_csv(io.BytesIO(uploaded['Life Expectancy Data.csv']))\n",
        "\n",
        "#Clean up column names \n",
        "df.rename(columns={' thinness 5-9 years': 'Thinness_5_9_years', ' thinness  1-19 years': 'Thinness_1_19_years', ' BMI ': 'BMI', 'Life expectancy ': 'Life_expectancy', 'Measles ': 'Measles', 'under-five deaths ': 'Under_5_deaths', 'Diphtheria ': 'Diphtheria', ' HIV/AIDS': 'HIV_AIDS', 'percentage expenditure': 'Pct_expenditure', 'infant deaths': 'Infant_deaths', 'Hepatitis B': 'Hep_B', 'Total expenditure': 'Total_expenditure', 'Income composition of resources': 'Incom_comp_rescs', 'Adult Mortality': 'Adult_mortality'}, inplace=True)"
      ],
      "execution_count": 2,
      "outputs": []
    },
    {
      "cell_type": "code",
      "metadata": {
        "id": "9UaNRItP-k2_"
      },
      "source": [
        "# Get rid of columns with lots of null items or other issues \n",
        "df.drop(columns=['Hep_B', 'BMI', 'Population', 'Alcohol', 'Total_expenditure'], inplace=True)\n",
        "# Null values remain in some columns. \n",
        "\n",
        "# Replace infinite values (inf) with NaN\n",
        "df.replace([np.inf, -np.inf], np.nan, inplace=True)\n",
        "\n",
        "# Grab columns as list\n",
        "columns = list(df.columns)"
      ],
      "execution_count": 3,
      "outputs": []
    },
    {
      "cell_type": "code",
      "metadata": {
        "id": "7zan2P-ex1NM"
      },
      "source": [
        "# Obtain dataframes for 2000 and 2015. \n",
        "\n",
        "# 2015 dataframe\n",
        "d2015 = df[df['Year'] == 2015]\n",
        "d2015.reset_index(drop=True, inplace=True)\n",
        "    \n",
        "# 2000 dataframe\n",
        "d2000 = df[df['Year'] == 2000]\n",
        "d2000.reset_index(drop=True, inplace=True)"
      ],
      "execution_count": 4,
      "outputs": []
    },
    {
      "cell_type": "code",
      "metadata": {
        "colab": {
          "base_uri": "https://localhost:8080/",
          "height": 295
        },
        "id": "WdAwhT_nl-TC",
        "outputId": "218afb71-e47d-4f92-8213-098f02540605"
      },
      "source": [
        "# Plot distribution of life expectancies in 2000 and 2015\n",
        "import seaborn as sns\n",
        "import matplotlib.pyplot as plt\n",
        "\n",
        "sns.histplot(d2000['Life_expectancy'])\n",
        "ax = sns.histplot(d2015['Life_expectancy'], color='orange').set_title('Figure 1. Life expectancy (blue = 2000, orange = 2015)')\n",
        "plt.xlabel('Life Expectancy')\n",
        "plt.ylabel('Number of Countries')\n",
        "plt.show()"
      ],
      "execution_count": 5,
      "outputs": [
        {
          "output_type": "display_data",
          "data": {
            "image/png": "[encoded data removed]",
            "text/plain": [
              "<Figure size 432x288 with 1 Axes>"
            ]
          },
          "metadata": {
            "tags": [],
            "needs_background": "light"
          }
        }
      ]
    },
    {
      "cell_type": "code",
      "metadata": {
        "id": "Hvvz9c2siLxJ"
      },
      "source": [
        "# Check that both dataframes have the same countries in the same place.\n",
        "for i in range(len(d2000)):\n",
        "  if d2000.iloc[i][2] != d2015.iloc[i][2]:\n",
        "    print(d2015.iloc[i][2])"
      ],
      "execution_count": 6,
      "outputs": []
    },
    {
      "cell_type": "code",
      "metadata": {
        "id": "S92m5A-1aid5"
      },
      "source": [
        "# Add column to 2015 dataframe that contains rates of change in Life Expectancy\n",
        "d2015['Life_exp_rate'] = ((d2015['Life_expectancy'] -  d2000['Life_expectancy']) / d2000['Life_expectancy'] * 100)"
      ],
      "execution_count": null,
      "outputs": []
    },
    {
      "cell_type": "code",
      "metadata": {
        "id": "Se4Eq9npPLPN"
      },
      "source": [
        "# Add 2000 life expectancy data to 2015 dataframe\n",
        "d2015['2000_life_exp'] = d2000['Life_expectancy']"
      ],
      "execution_count": null,
      "outputs": []
    },
    {
      "cell_type": "code",
      "metadata": {
        "id": "7LQ599Q_4onL"
      },
      "source": [
        "# Eliminate negative growth rates\n",
        "d2015 = d2015[d2015['Life_exp_rate'] >= -1]\n",
        "\n",
        "# Eliminate huge growth rates\n",
        "d2015 = d2015[d2015['Life_exp_rate'] < 30]"
      ],
      "execution_count": 9,
      "outputs": []
    },
    {
      "cell_type": "code",
      "metadata": {
        "id": "jkcX38jTpLPb"
      },
      "source": [
        "# Obtain dataframe on countries with less than the median GDP\n",
        "d2015_poor = d2015[d2015['GDP'] <= d2015['GDP'].median()]\n",
        "\n",
        "# Put high and low rates in different dataframes\n",
        "# High rate of growth\n",
        "d2015_poor_high = d2015_poor[d2015_poor['Life_exp_rate'] > d2015_poor['Life_exp_rate'].median()]\n",
        "d2015_poor_high.reset_index(drop=True, inplace=True)\n",
        "# Low rate of growth\n",
        "d2015_poor_low = d2015_poor[d2015_poor['Life_exp_rate'] <= d2015_poor['Life_exp_rate'].median()]\n",
        "d2015_poor_low.reset_index(drop=True, inplace=True)"
      ],
      "execution_count": 10,
      "outputs": []
    },
    {
      "cell_type": "code",
      "metadata": {
        "id": "ZU-37-LqdJxh"
      },
      "source": [
        "# Independent t-tests\n",
        "from scipy import stats\n",
        "\n",
        "p_vals = []\n",
        "for i in range(3, len(columns)):\n",
        "  x_var = columns[i]\n",
        "  A = d2015_poor_high[x_var].dropna()\n",
        "  B = d2015_poor_low[x_var].dropna()\n",
        "  tval, pval = stats.ttest_ind(A, B)\n",
        "  p_vals.append(f'{columns[i]}: {pval}')\n",
        "  #print(f'{columns[i]}: {round(pval, 4)}')"
      ],
      "execution_count": 11,
      "outputs": []
    },
    {
      "cell_type": "code",
      "metadata": {
        "id": "qQNS0-vgEbHS"
      },
      "source": [
        "# Mean values\n",
        "# Low rate group\n",
        "means_low = []\n",
        "for i in range(3, len(columns)):\n",
        "  mean = round(d2015_poor_low[columns[i]].dropna().mean(), 2)\n",
        "  means_low.append(f'{columns[i]}: {mean}')\n",
        "  #print(f'{columns[i]}: {mean}')\n",
        "\n",
        "# High rate group\n",
        "means_high = []\n",
        "for i in range(3, len(columns)):\n",
        "  mean = round(d2015_poor_high[columns[i]].dropna().mean(), 2)\n",
        "  means_high.append(f'{columns[i]}: {mean}')\n",
        "  #print(f'{columns[i]}: {mean}')"
      ],
      "execution_count": 12,
      "outputs": []
    },
    {
      "cell_type": "code",
      "metadata": {
        "id": "Gr6u-4nJGWF2"
      },
      "source": [
        "# Perform linear regression, obtain high R2 values\n",
        "from statsmodels.formula.api import ols\n",
        "\n",
        "y = 'Life_expectancy'\n",
        "r_squared = []\n",
        "high_r_squared = []\n",
        "\n",
        "for i in range(3, len(columns)):\n",
        "  x_var = columns[i]\n",
        "  d2015_poor_nonull = d2015_poor.dropna(subset=[x_var])\n",
        "  model = ols(f'{y} ~ {x_var}', data=d2015_poor_nonull).fit()\n",
        "  r_squared.append(f'{columns[i]}: {round(model.rsquared, 4)}')\n",
        "  if model.rsquared > 0.2:\n",
        "    high_r_squared.append(f'{columns[i]}: {round(model.rsquared, 4)}')"
      ],
      "execution_count": null,
      "outputs": []
    },
    {
      "cell_type": "code",
      "metadata": {
        "id": "hOqGuGHH0NnS"
      },
      "source": [
        "# Linear relationship: Life_expectancy - Adult_mortality\n",
        "\n",
        "x_var = 'Adult_mortality'\n",
        "y_var = 'Life_expectancy'\n",
        "\n",
        "# Remove outliers from Adult_mortality\n",
        "modified = d2015_poor[d2015_poor[x_var] >35]\n",
        "\n",
        "# Plot relationship\n",
        "sns.regplot(x=x_var, y=y_var, data=modified.dropna(subset=[x_var, y_var]))\n",
        "\n",
        "# Fit model with modified dataframe\n",
        "model = ols(f'{y_var} ~ {x_var}', data=d2015_poor.dropna(subset=[x_var, y_var])).fit()\n",
        "print(model.summary())"
      ],
      "execution_count": null,
      "outputs": []
    },
    {
      "cell_type": "code",
      "metadata": {
        "id": "3PVMy8IgFQMG"
      },
      "source": [
        "# Linear relationship: Life_expectancy - Schooling\n",
        "\n",
        "x_var = 'Schooling'\n",
        "y_var = 'Life_expectancy'\n",
        "\n",
        "# Plot relationship\n",
        "sns.regplot(x=x_var, y=y_var, data=d2015_poor.dropna(subset=[x_var, y_var]))\n",
        "\n",
        "# Fit model \n",
        "model = ols(f'{y_var} ~ {x_var}', data=d2015_poor.dropna(subset=[x_var, y_var])).fit()\n",
        "print(model.summary())"
      ],
      "execution_count": null,
      "outputs": []
    },
    {
      "cell_type": "code",
      "metadata": {
        "id": "R-e_JjGF7Aob"
      },
      "source": [
        "# Multiple linear relationship: Life_expectancy ~ Adult_mortality + Schooling\n",
        "\n",
        "d2015_poor['School_hue'] = pd.cut(d2015_poor.Schooling, bins=[4,11,19], labels=['4-11 yrs', '12-19 yrs'])\n",
        "\n",
        "x1_var = 'Adult_mortality'\n",
        "x2_var = 'Schooling'\n",
        "y_var = 'Life_expectancy'\n",
        "\n",
        "\n",
        "# Remove outliers from Adult_mortality\n",
        "modified = d2015_poor[d2015_poor[x1_var] >35]\n",
        "modified = modified.dropna(subset=[x1_var, x2_var, y_var])\n",
        "\n",
        "model = ols(f'{y_var} ~ {x1_var} + {x2_var}', data=modified).fit()\n",
        "print(model.summary())"
      ],
      "execution_count": null,
      "outputs": []
    },
    {
      "cell_type": "code",
      "metadata": {
        "id": "qzOUZOFZ5nde"
      },
      "source": [
        "# Plot relationship between life expectancy, adult mortality, schooling\n",
        "sns.lmplot(x=x1_var, y=y_var, hue='School_hue', data=modified, fit_reg=False, ci=None)\n",
        "plt.title('Figure 2. Life expectancy, adult mortality and schooling')\n",
        "plt.xlabel('Adult Mortality (deaths age 15-60 per 1,000 people)')\n",
        "plt.ylabel('Life Expectancy (years)')\n",
        "plt.show()"
      ],
      "execution_count": null,
      "outputs": []
    },
    {
      "cell_type": "markdown",
      "metadata": {
        "id": "SX4cXsrwFY_4"
      },
      "source": [
        "The below is an analysis using the same methods as above, but only on the bottom 25% of countries in GDP per capita (the poor-poor). The results are not discussed in the medium post. "
      ]
    },
    {
      "cell_type": "code",
      "metadata": {
        "id": "w_nbL7ejIGUD"
      },
      "source": [
        "# Obtain dataframe on POOR countries with less than the median GDP\n",
        "d2015_poor_poor = d2015_poor[d2015_poor['GDP'] <= d2015_poor['GDP'].median()]\n",
        "\n",
        "# Put high and low rates in different dataframes\n",
        "# High rate of growth\n",
        "d2015_poor_poor_high = d2015_poor_poor[d2015_poor_poor['Life_exp_rate'] > d2015_poor_poor['Life_exp_rate'].median()]\n",
        "d2015_poor_poor_high.reset_index(drop=True, inplace=True)\n",
        "# Low rate of growth\n",
        "d2015_poor_poor_low = d2015_poor_poor[d2015_poor_poor['Life_exp_rate'] <= d2015_poor_poor['Life_exp_rate'].median()]\n",
        "d2015_poor_poor_low.reset_index(drop=True, inplace=True)"
      ],
      "execution_count": 19,
      "outputs": []
    },
    {
      "cell_type": "code",
      "metadata": {
        "id": "2WReHIh4JOxk"
      },
      "source": [
        "# Independent t-tests\n",
        "from scipy import stats\n",
        "\n",
        "p_vals = []\n",
        "for i in range(3, len(columns)):\n",
        "  x_var = columns[i]\n",
        "  A = d2015_poor_poor_high[x_var].dropna()\n",
        "  B = d2015_poor_poor_low[x_var].dropna()\n",
        "  tval, pval = stats.ttest_ind(A, B)\n",
        "  p_vals.append(f'{columns[i]}: {pval}')\n",
        "  #print(f'{columns[i]}: {round(pval, 4)}')"
      ],
      "execution_count": null,
      "outputs": []
    },
    {
      "cell_type": "code",
      "metadata": {
        "id": "gBy84N0vLQVP"
      },
      "source": [
        "# Mean values\n",
        "# Poor-low group\n",
        "means_low = []\n",
        "for i in range(3, len(columns)):\n",
        "  mean = round(d2015_poor_poor_low[columns[i]].dropna().mean(), 2)\n",
        "  means_low.append(f'{columns[i]}: {mean}')\n",
        "  #print(f'{columns[i]}: {mean}')\n",
        "\n",
        "print('----------')\n",
        "\n",
        "# Poor-high group\n",
        "means_high = []\n",
        "for i in range(3, len(columns)):\n",
        "  mean = round(d2015_poor_poor_high[columns[i]].dropna().mean(), 2)\n",
        "  means_high.append(f'{columns[i]}: {mean}')\n",
        "  #print(f'{columns[i]}: {mean}')"
      ],
      "execution_count": null,
      "outputs": []
    }
  ]
}